{
 "cells": [
  {
   "cell_type": "markdown",
   "metadata": {},
   "source": [
    "# Introduction\n",
    "\n",
    "This notebook contains code to explore a simple classification problem: distinguishing user-input numbers between 0-9.\n",
    "\n",
    "The respective machine learning model will be created using tensorflow and the data is provided from the [MNIST data set](https://www.tensorflow.org/datasets/catalog/mnist)."
   ]
  },
  {
   "cell_type": "markdown",
   "metadata": {},
   "source": [
    "## Setup"
   ]
  },
  {
   "cell_type": "code",
   "execution_count": null,
   "metadata": {},
   "outputs": [],
   "source": [
    "import tensorflow as tf\n",
    "from tensorflow.keras import layers\n",
    "\n",
    "import matplotlib.pyplot as plt"
   ]
  },
  {
   "cell_type": "markdown",
   "metadata": {},
   "source": [
    "## Get MNIST input data\n",
    "\n",
    "The data is saved in an tf.data.Dataset instance, see https://www.tensorflow.org/api_docs/python/tf/data/Dataset"
   ]
  },
  {
   "cell_type": "code",
   "execution_count": null,
   "metadata": {},
   "outputs": [],
   "source": [
    "import tensorflow_datasets as tfds\n",
    "\n",
    "(ds_train, ds_test), ds_info = tfds.load(\n",
    "    'mnist',\n",
    "    split=['train', 'test'],\n",
    "    shuffle_files=True,\n",
    "    as_supervised=True,\n",
    "    with_info=True,\n",
    ")"
   ]
  },
  {
   "cell_type": "code",
   "execution_count": null,
   "metadata": {},
   "outputs": [],
   "source": [
    "lookup_index = 7\n",
    "\n",
    "for images, labels in ds_train.take(lookup_index):  # only take first element of dataset\n",
    "    lookup_index -= 1\n",
    "    if lookup_index == 0:\n",
    "        print(f\"label: {labels}\")\n",
    "        plt.imshow(images[:,:,0], cmap=\"gray\")\n",
    "        break"
   ]
  },
  {
   "cell_type": "markdown",
   "metadata": {},
   "source": [
    "## Pipe the data\n",
    "Code in line with https://www.tensorflow.org/datasets/keras_example"
   ]
  },
  {
   "cell_type": "code",
   "execution_count": null,
   "metadata": {},
   "outputs": [],
   "source": [
    "def normalize_img(image, label):\n",
    "    \"\"\"Normalizes images: `uint8` -> `float32`.\"\"\"\n",
    "    return tf.cast(image, tf.float32) / 255., label"
   ]
  },
  {
   "cell_type": "code",
   "execution_count": null,
   "metadata": {},
   "outputs": [],
   "source": [
    "# normalize data\n",
    "ds_train = ds_train.map(normalize_img, num_parallel_calls=tf.data.experimental.AUTOTUNE) \n",
    "\n",
    "# cache data set to memory when iterating\n",
    "ds_train = ds_train.cache()\n",
    "\n",
    "# shuffle data\n",
    "ds_train = ds_train.shuffle(ds_info.splits['train'].num_examples)\n",
    "\n",
    "# batch consecutive elements together\n",
    "ds_train = ds_train.batch(128)\n",
    "\n",
    "# enable prefetching. consecutive elements will be prepared to be processed if the previous is currently\n",
    "ds_train = ds_train.prefetch(tf.data.experimental.AUTOTUNE)"
   ]
  },
  {
   "cell_type": "code",
   "execution_count": null,
   "metadata": {},
   "outputs": [],
   "source": [
    "ds_test = ds_test.map(normalize_img, num_parallel_calls=tf.data.experimental.AUTOTUNE)\n",
    "ds_test = ds_test.cache()\n",
    "ds_test = ds_test.batch(128)\n",
    "ds_test = ds_test.prefetch(tf.data.experimental.AUTOTUNE)"
   ]
  },
  {
   "cell_type": "markdown",
   "metadata": {},
   "source": [
    "## Create the model\n",
    "\n",
    "The input images are in total 28 by 28 = 784 pixels large.\n",
    "\n",
    "There are several different layers used:\n",
    "- layers.Flatten: flattens the input image. Avoids that for each row (or column) a new layers.Dense is created.\n",
    "- layers.Dense: usual DNN layer\n",
    "- layers.BatchNormalization: normalizes the layers inputs, see https://en.wikipedia.org/wiki/Batch_normalization. Improves convergence\n",
    "- layers.Dropout: drop out (1/3) neurons per sample to prevent unwanted patterns based on noise on contrary to general patterns"
   ]
  },
  {
   "cell_type": "code",
   "execution_count": null,
   "metadata": {},
   "outputs": [],
   "source": [
    "model = tf.keras.models.Sequential([\n",
    "    layers.Conv2D(kernel_size=4, filters=3, input_shape=(28, 28, 1), activation='relu', padding='same'),\n",
    "    layers.Flatten(input_shape=(28, 28, 1)),\n",
    "    layers.Dense(64, activation='relu'),\n",
    "    layers.Dense(10),\n",
    "])\n",
    "\n",
    "model.compile(\n",
    "    # use established Adam algorithm for SGD\n",
    "    optimizer=tf.keras.optimizers.Adam(0.001),\n",
    "    \n",
    "    # use a crossentropy function for the loss evaluation\n",
    "    # the loss evaluation is the function of labels and predictions to be minimized \n",
    "    \n",
    "    # the crossentropy is defined as H = E_p(x) (log q(x)) with p(x) and q(x) prob. distributions\n",
    "    # being the expectation value of log(q) when distributed with p, similarly the regular entropy\n",
    "    # could be defined using E_p log p, see https://en.wikipedia.org/wiki/Cross_entropy\n",
    "    loss=tf.keras.losses.SparseCategoricalCrossentropy(from_logits=True), # from_logits=True if previous layer is normalized\n",
    "    \n",
    "    # used for visualization, counts the correct predictions\n",
    "    metrics=[tf.keras.metrics.SparseCategoricalAccuracy()],\n",
    ")"
   ]
  },
  {
   "cell_type": "markdown",
   "metadata": {},
   "source": [
    "## Train the model"
   ]
  },
  {
   "cell_type": "code",
   "execution_count": null,
   "metadata": {},
   "outputs": [],
   "source": [
    "early_stopping = tf.keras.callbacks.EarlyStopping(\n",
    "    patience=5,\n",
    "    min_delta=0.001,\n",
    "    restore_best_weights=True,\n",
    ")\n",
    "\n",
    "\n",
    "history = model.fit(\n",
    "    ds_train,\n",
    "    epochs=100,\n",
    "    validation_data=ds_test,\n",
    "    callbacks=[early_stopping],\n",
    ")"
   ]
  },
  {
   "cell_type": "markdown",
   "metadata": {},
   "source": [
    "## Visualization\n",
    "Visualize the training progress"
   ]
  },
  {
   "cell_type": "code",
   "execution_count": null,
   "metadata": {},
   "outputs": [],
   "source": [
    "import pandas as pd\n",
    "\n",
    "history_df = pd.DataFrame(history.history)\n",
    "history_df.loc[:, ['loss', 'val_loss']].plot(title=\"Sparse Categorical Cross-entropy\")\n",
    "history_df.loc[:, ['sparse_categorical_accuracy', 'val_sparse_categorical_accuracy']].plot(title=\"Sparse Categorical Accuracy\")"
   ]
  },
  {
   "cell_type": "code",
   "execution_count": null,
   "metadata": {
    "scrolled": true
   },
   "outputs": [],
   "source": [
    "import numpy as np\n",
    "import PIL\n",
    "\n",
    "img = PIL.Image.open(\"tf_classification_user.png\").convert(\"L\")\n",
    "imgarr = np.array(img).reshape((1,28,28,1))\n",
    "imgarr = imgarr / np.max(imgarr)\n",
    "# print(imgarr)\n",
    "print(model.predict(imgarr))\n",
    "print(f\"prediction: {np.argmax(model(imgarr))}\")\n",
    "plt.imshow(imgarr[0,:,:,0], cmap=\"gray\")"
   ]
  }
 ],
 "metadata": {
  "kernelspec": {
   "display_name": "Python 3 (ipykernel)",
   "language": "python",
   "name": "python3"
  },
  "language_info": {
   "codemirror_mode": {
    "name": "ipython",
    "version": 3
   },
   "file_extension": ".py",
   "mimetype": "text/x-python",
   "name": "python",
   "nbconvert_exporter": "python",
   "pygments_lexer": "ipython3",
   "version": "3.7.5"
  }
 },
 "nbformat": 4,
 "nbformat_minor": 2
}
