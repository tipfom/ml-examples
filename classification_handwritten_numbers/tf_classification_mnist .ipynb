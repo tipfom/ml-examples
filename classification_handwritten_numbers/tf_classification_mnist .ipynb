{
 "cells": [
  {
   "cell_type": "markdown",
   "metadata": {},
   "source": [
    "# Introduction\n",
    "\n",
    "This notebook contains code to explore a simple classification problem: distinguishing user-input numbers between 0-9.\n",
    "\n",
    "The respective machine learning model will be created using tensorflow and the data is provided from the [MNIST data set](https://www.tensorflow.org/datasets/catalog/mnist)."
   ]
  },
  {
   "cell_type": "markdown",
   "metadata": {},
   "source": [
    "## Setup"
   ]
  },
  {
   "cell_type": "code",
   "execution_count": 26,
   "metadata": {},
   "outputs": [],
   "source": [
    "import tensorflow as tf\n",
    "from tensorflow.keras import layers\n",
    "\n",
    "import matplotlib.pyplot as plt"
   ]
  },
  {
   "cell_type": "markdown",
   "metadata": {},
   "source": [
    "## Get MNIST input data\n",
    "\n",
    "The data is saved in an tf.data.Dataset instance, see https://www.tensorflow.org/api_docs/python/tf/data/Dataset"
   ]
  },
  {
   "cell_type": "code",
   "execution_count": 2,
   "metadata": {},
   "outputs": [],
   "source": [
    "import tensorflow_datasets as tfds\n",
    "\n",
    "(ds_train, ds_test), ds_info = tfds.load(\n",
    "    'mnist',\n",
    "    split=['train', 'test'],\n",
    "    shuffle_files=True,\n",
    "    as_supervised=True,\n",
    "    with_info=True,\n",
    ")"
   ]
  },
  {
   "cell_type": "code",
   "execution_count": 3,
   "metadata": {},
   "outputs": [
    {
     "name": "stdout",
     "output_type": "stream",
     "text": [
      "label: 7\n"
     ]
    },
    {
     "ename": "NameError",
     "evalue": "name 'plt' is not defined",
     "output_type": "error",
     "traceback": [
      "\u001b[1;31m---------------------------------------------------------------------------\u001b[0m",
      "\u001b[1;31mNameError\u001b[0m                                 Traceback (most recent call last)",
      "\u001b[1;32m~\\AppData\\Local\\Temp/ipykernel_728/2852042041.py\u001b[0m in \u001b[0;36m<module>\u001b[1;34m\u001b[0m\n\u001b[0;32m      5\u001b[0m     \u001b[1;32mif\u001b[0m \u001b[0mlookup_index\u001b[0m \u001b[1;33m==\u001b[0m \u001b[1;36m0\u001b[0m\u001b[1;33m:\u001b[0m\u001b[1;33m\u001b[0m\u001b[1;33m\u001b[0m\u001b[0m\n\u001b[0;32m      6\u001b[0m         \u001b[0mprint\u001b[0m\u001b[1;33m(\u001b[0m\u001b[1;34mf\"label: {labels}\"\u001b[0m\u001b[1;33m)\u001b[0m\u001b[1;33m\u001b[0m\u001b[1;33m\u001b[0m\u001b[0m\n\u001b[1;32m----> 7\u001b[1;33m         \u001b[0mplt\u001b[0m\u001b[1;33m.\u001b[0m\u001b[0mimshow\u001b[0m\u001b[1;33m(\u001b[0m\u001b[0mimages\u001b[0m\u001b[1;33m[\u001b[0m\u001b[1;33m:\u001b[0m\u001b[1;33m,\u001b[0m\u001b[1;33m:\u001b[0m\u001b[1;33m,\u001b[0m\u001b[1;36m0\u001b[0m\u001b[1;33m]\u001b[0m\u001b[1;33m,\u001b[0m \u001b[0mcmap\u001b[0m\u001b[1;33m=\u001b[0m\u001b[1;34m\"gray\"\u001b[0m\u001b[1;33m)\u001b[0m\u001b[1;33m\u001b[0m\u001b[1;33m\u001b[0m\u001b[0m\n\u001b[0m\u001b[0;32m      8\u001b[0m         \u001b[1;32mbreak\u001b[0m\u001b[1;33m\u001b[0m\u001b[1;33m\u001b[0m\u001b[0m\n",
      "\u001b[1;31mNameError\u001b[0m: name 'plt' is not defined"
     ]
    }
   ],
   "source": [
    "lookup_index = 4\n",
    "\n",
    "for images, labels in ds_train.take(lookup_index):  # only take first element of dataset\n",
    "    lookup_index -= 1\n",
    "    if lookup_index == 0:\n",
    "        print(f\"label: {labels}\")\n",
    "        plt.imshow(images[:,:,0], cmap=\"gray\")\n",
    "        break"
   ]
  },
  {
   "cell_type": "markdown",
   "metadata": {},
   "source": [
    "## Pipe the data\n",
    "Code in line with https://www.tensorflow.org/datasets/keras_example"
   ]
  },
  {
   "cell_type": "code",
   "execution_count": 4,
   "metadata": {},
   "outputs": [],
   "source": [
    "def normalize_img(image, label):\n",
    "    \"\"\"Normalizes images: `uint8` -> `float32`.\"\"\"\n",
    "    return tf.cast(image, tf.float32) / 255., label"
   ]
  },
  {
   "cell_type": "code",
   "execution_count": 5,
   "metadata": {},
   "outputs": [],
   "source": [
    "# normalize data\n",
    "ds_train = ds_train.map(normalize_img, num_parallel_calls=tf.data.experimental.AUTOTUNE) \n",
    "\n",
    "# cache data set to memory when iterating\n",
    "ds_train = ds_train.cache()\n",
    "\n",
    "# shuffle data\n",
    "ds_train = ds_train.shuffle(ds_info.splits['train'].num_examples)\n",
    "\n",
    "# batch consecutive elements together\n",
    "ds_train = ds_train.batch(128)\n",
    "\n",
    "# enable prefetching. consecutive elements will be prepared to be processed if the previous is currently\n",
    "ds_train = ds_train.prefetch(tf.data.experimental.AUTOTUNE)"
   ]
  },
  {
   "cell_type": "code",
   "execution_count": 6,
   "metadata": {},
   "outputs": [],
   "source": [
    "ds_test = ds_test.map(normalize_img, num_parallel_calls=tf.data.experimental.AUTOTUNE)\n",
    "ds_test = ds_test.cache()\n",
    "ds_test = ds_test.batch(128)\n",
    "ds_test = ds_test.prefetch(tf.data.experimental.AUTOTUNE)"
   ]
  },
  {
   "cell_type": "markdown",
   "metadata": {},
   "source": [
    "## Create the model\n",
    "\n",
    "The input images are in total 28 by 28 = 784 pixels large.\n",
    "\n",
    "There are several different layers used:\n",
    "- layers.Flatten: flattens the input image. Avoids that for each row (or column) a new layers.Dense is created.\n",
    "- layers.Dense: usual DNN layer\n",
    "- layers.BatchNormalization: normalizes the layers inputs, see https://en.wikipedia.org/wiki/Batch_normalization. Improves convergence\n",
    "- layers.Dropout: drop out (1/3) neurons per sample to prevent unwanted patterns based on noise on contrary to general patterns"
   ]
  },
  {
   "cell_type": "code",
   "execution_count": 92,
   "metadata": {},
   "outputs": [],
   "source": [
    "model = tf.keras.models.Sequential([\n",
    "    layers.Conv2D(kernel_size=3, filters=1, input_shape=(28, 28, 1), activation='relu', padding='same'),\n",
    "#     layers.Conv2D(2, 3, activation='relu', input_shape=(28, 28)),\n",
    "    layers.Flatten(input_shape=(28, 28, 1)),\n",
    "#     layers.Dense(172, activation='relu'),\n",
    "#     layers.BatchNormalization(),\n",
    "#     layers.Dropout(0.3),\n",
    "#     layers.Dense(64, activation='relu'),\n",
    "    layers.Dense(10),\n",
    "#     layers.Softmax()\n",
    "])\n",
    "\n",
    "model.compile(\n",
    "    # use established Adam algorithm for SGD\n",
    "    optimizer=tf.keras.optimizers.Adam(0.001),\n",
    "    \n",
    "    # use a crossentropy function for the loss evaluation\n",
    "    # the loss evaluation is the function of labels and predictions to be minimized \n",
    "    \n",
    "    # the crossentropy is defined as H = E_p(x) (log q(x)) with p(x) and q(x) prob. distributions\n",
    "    # being the expectation value of log(q) when distributed with p, similarly the regular entropy\n",
    "    # could be defined using E_p log p, see https://en.wikipedia.org/wiki/Cross_entropy\n",
    "    loss=tf.keras.losses.SparseCategoricalCrossentropy(from_logits=True), # from_logits=True if previous layer is normalized\n",
    "    \n",
    "    # used for visualization, counts the correct predictions\n",
    "    metrics=[tf.keras.metrics.SparseCategoricalAccuracy()],\n",
    ")"
   ]
  },
  {
   "cell_type": "markdown",
   "metadata": {},
   "source": [
    "## Train the model"
   ]
  },
  {
   "cell_type": "code",
   "execution_count": 93,
   "metadata": {},
   "outputs": [
    {
     "name": "stdout",
     "output_type": "stream",
     "text": [
      "Epoch 1/100\n",
      "469/469 [==============================] - 6s 11ms/step - loss: 0.5588 - sparse_categorical_accuracy: 0.8487 - val_loss: 0.3026 - val_sparse_categorical_accuracy: 0.9128\n",
      "Epoch 2/100\n",
      "469/469 [==============================] - 5s 11ms/step - loss: 0.3053 - sparse_categorical_accuracy: 0.9123 - val_loss: 0.2779 - val_sparse_categorical_accuracy: 0.9189\n",
      "Epoch 3/100\n",
      "469/469 [==============================] - 5s 11ms/step - loss: 0.2874 - sparse_categorical_accuracy: 0.9186 - val_loss: 0.2697 - val_sparse_categorical_accuracy: 0.9228\n",
      "Epoch 4/100\n",
      "469/469 [==============================] - 5s 11ms/step - loss: 0.2802 - sparse_categorical_accuracy: 0.9218 - val_loss: 0.2745 - val_sparse_categorical_accuracy: 0.9218\n",
      "Epoch 5/100\n",
      "469/469 [==============================] - 5s 11ms/step - loss: 0.2751 - sparse_categorical_accuracy: 0.9232 - val_loss: 0.2821 - val_sparse_categorical_accuracy: 0.9198\n",
      "Epoch 6/100\n",
      "469/469 [==============================] - 5s 11ms/step - loss: 0.2713 - sparse_categorical_accuracy: 0.9238 - val_loss: 0.2736 - val_sparse_categorical_accuracy: 0.9213\n",
      "Epoch 7/100\n",
      "469/469 [==============================] - 5s 12ms/step - loss: 0.2676 - sparse_categorical_accuracy: 0.9252 - val_loss: 0.2683 - val_sparse_categorical_accuracy: 0.9259\n",
      "Epoch 8/100\n",
      "469/469 [==============================] - 5s 11ms/step - loss: 0.2664 - sparse_categorical_accuracy: 0.9257 - val_loss: 0.2643 - val_sparse_categorical_accuracy: 0.9261\n",
      "Epoch 9/100\n",
      "469/469 [==============================] - 5s 11ms/step - loss: 0.2637 - sparse_categorical_accuracy: 0.9262 - val_loss: 0.2641 - val_sparse_categorical_accuracy: 0.9264\n",
      "Epoch 10/100\n",
      "469/469 [==============================] - 6s 12ms/step - loss: 0.2618 - sparse_categorical_accuracy: 0.9274 - val_loss: 0.2646 - val_sparse_categorical_accuracy: 0.9249\n",
      "Epoch 11/100\n",
      "469/469 [==============================] - 6s 13ms/step - loss: 0.2603 - sparse_categorical_accuracy: 0.9281 - val_loss: 0.2685 - val_sparse_categorical_accuracy: 0.9252\n",
      "Epoch 12/100\n",
      "469/469 [==============================] - 5s 12ms/step - loss: 0.2589 - sparse_categorical_accuracy: 0.9290 - val_loss: 0.2633 - val_sparse_categorical_accuracy: 0.9272\n",
      "Epoch 13/100\n",
      "469/469 [==============================] - 6s 13ms/step - loss: 0.2579 - sparse_categorical_accuracy: 0.9278 - val_loss: 0.2653 - val_sparse_categorical_accuracy: 0.9246\n"
     ]
    }
   ],
   "source": [
    "early_stopping = tf.keras.callbacks.EarlyStopping(\n",
    "    patience=5,\n",
    "    min_delta=0.001,\n",
    "    restore_best_weights=True,\n",
    ")\n",
    "\n",
    "\n",
    "history = model.fit(\n",
    "    ds_train,\n",
    "    epochs=100,\n",
    "    validation_data=ds_test,\n",
    "    callbacks=[early_stopping],\n",
    ")"
   ]
  },
  {
   "cell_type": "markdown",
   "metadata": {},
   "source": [
    "## Visualization\n",
    "Visualize the training progress"
   ]
  },
  {
   "cell_type": "code",
   "execution_count": 94,
   "metadata": {},
   "outputs": [
    {
     "data": {
      "text/plain": [
       "<matplotlib.axes._subplots.AxesSubplot at 0x21b9afcc648>"
      ]
     },
     "execution_count": 94,
     "metadata": {},
     "output_type": "execute_result"
    },
    {
     "data": {
      "image/png": "[encoded data removed]",
      "text/plain": [
       "<Figure size 432x288 with 1 Axes>"
      ]
     },
     "metadata": {
      "needs_background": "light"
     },
     "output_type": "display_data"
    },
    {
     "data": {
      "image/png": "[encoded data removed]",
      "text/plain": [
       "<Figure size 432x288 with 1 Axes>"
      ]
     },
     "metadata": {
      "needs_background": "light"
     },
     "output_type": "display_data"
    }
   ],
   "source": [
    "import pandas as pd\n",
    "\n",
    "history_df = pd.DataFrame(history.history)\n",
    "history_df.loc[:, ['loss', 'val_loss']].plot(title=\"Sparse Categorical Cross-entropy\")\n",
    "history_df.loc[:, ['sparse_categorical_accuracy', 'val_sparse_categorical_accuracy']].plot(title=\"Sparse Categorical Accuracy\")"
   ]
  },
  {
   "cell_type": "code",
   "execution_count": 95,
   "metadata": {
    "scrolled": true
   },
   "outputs": [
    {
     "name": "stdout",
     "output_type": "stream",
     "text": [
      "[[ -2.120843   -12.529961     0.15902136   7.4359035  -17.143381\n",
      "   -2.1011841   -9.219476    -3.402289    -4.0232434  -13.735132  ]]\n",
      "prediction: 3\n"
     ]
    },
    {
     "data": {
      "text/plain": [
       "<matplotlib.image.AxesImage at 0x21b9b0df248>"
      ]
     },
     "execution_count": 95,
     "metadata": {},
     "output_type": "execute_result"
    },
    {
     "data": {
      "image/png": "[encoded data removed]",
      "text/plain": [
       "<Figure size 432x288 with 1 Axes>"
      ]
     },
     "metadata": {
      "needs_background": "light"
     },
     "output_type": "display_data"
    }
   ],
   "source": [
    "import numpy as np\n",
    "import PIL\n",
    "\n",
    "img = PIL.Image.open(\"tf_classification_user.png\").convert(\"L\")\n",
    "imgarr = np.array(img).reshape((1,28,28,1))\n",
    "imgarr = imgarr / np.max(imgarr)\n",
    "# print(imgarr)\n",
    "print(model.predict(imgarr))\n",
    "print(f\"prediction: {np.argmax(model(imgarr))}\")\n",
    "plt.imshow(imgarr[0,:,:,0], cmap=\"gray\")"
   ]
  },
  {
   "cell_type": "code",
   "execution_count": null,
   "metadata": {},
   "outputs": [],
   "source": []
  },
  {
   "cell_type": "code",
   "execution_count": null,
   "metadata": {},
   "outputs": [],
   "source": []
  }
 ],
 "metadata": {
  "kernelspec": {
   "display_name": "Python 3 (ipykernel)",
   "language": "python",
   "name": "python3"
  },
  "language_info": {
   "codemirror_mode": {
    "name": "ipython",
    "version": 3
   },
   "file_extension": ".py",
   "mimetype": "text/x-python",
   "name": "python",
   "nbconvert_exporter": "python",
   "pygments_lexer": "ipython3",
   "version": "3.7.5"
  }
 },
 "nbformat": 4,
 "nbformat_minor": 2
}
